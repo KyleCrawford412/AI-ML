{
  "nbformat": 4,
  "nbformat_minor": 0,
  "metadata": {
    "colab": {
      "provenance": []
    },
    "kernelspec": {
      "name": "python3",
      "display_name": "Python 3"
    },
    "language_info": {
      "name": "python"
    },
    "accelerator": "GPU"
  },
  "cells": [
    {
      "cell_type": "markdown",
      "source": [
        "# Classification of Cats & Dogs using KNN Algorithm for both Euclidean Distance and Manhattan Distance"
      ],
      "metadata": {
        "id": "DmEBe-usbfJF"
      }
    },
    {
      "cell_type": "markdown",
      "source": [
        "# Aquiring Data set from Kaggle.com"
      ],
      "metadata": {
        "id": "DAPVbfaZawwq"
      }
    },
    {
      "cell_type": "markdown",
      "source": [
        "This section of the program installs th required Kaggle directories within Good Colab so that you can download datasets from Kaggle directly. To make sure that this section of the code works, please upload the \"kaggle.json\" file from the zip file into the \"/content/\" directory before running the code."
      ],
      "metadata": {
        "id": "O1BB3WmOa6mw"
      }
    },
    {
      "cell_type": "markdown",
      "source": [
        "The data downloaded consist of a total of 25,000 images of cats and dogs. There is a training set of images which consist of 10,000 images of cats and dogs each and a test set of images consisting of 2,500 images of cats and dogs each."
      ],
      "metadata": {
        "id": "tbgPGhgtb01I"
      }
    },
    {
      "cell_type": "code",
      "source": [
        "! pip install kaggle\n",
        "! mkdir ~/.kaggle\n",
        "! cp kaggle.json ~/.kaggle/\n",
        "! chmod 600 ~/.kaggle/kaggle.json"
      ],
      "metadata": {
        "id": "Nbf41gBDPBzU"
      },
      "execution_count": null,
      "outputs": []
    },
    {
      "cell_type": "code",
      "source": [
        "! kaggle datasets download -d rotchymoricette/knn-machine-learning-data-set-catdog"
      ],
      "metadata": {
        "id": "fjnaNl0wPApO"
      },
      "execution_count": null,
      "outputs": []
    },
    {
      "cell_type": "code",
      "source": [
        "! unzip knn-machine-learning-data-set-catdog.zip"
      ],
      "metadata": {
        "id": "N6Vf1jrqPgal"
      },
      "execution_count": null,
      "outputs": []
    },
    {
      "cell_type": "markdown",
      "source": [
        "# Image Featuring"
      ],
      "metadata": {
        "id": "6pdDOBYObuug"
      }
    },
    {
      "cell_type": "markdown",
      "source": [
        "Importing the images using Matplotlip and converting them into a Numpy Array"
      ],
      "metadata": {
        "id": "ZUAHAda2cvkj"
      }
    },
    {
      "cell_type": "code",
      "metadata": {
        "id": "ThYFGkM50VbT"
      },
      "source": [
        "from skimage.feature import hog\n",
        "import numpy as np\n",
        "import cv2\n",
        "import matplotlib.pyplot as plt\n",
        "from matplotlib import image as mpimg\n",
        "import os\n",
        "import glob\n",
        "from sklearn.neighbors import KNeighborsClassifier\n",
        "from sklearn import metrics"
      ],
      "execution_count": null,
      "outputs": []
    },
    {
      "cell_type": "code",
      "metadata": {
        "id": "HPE9t-E50eQP"
      },
      "source": [
        "#image featuring technique\n",
        "img = np.array(mpimg.imread('/content/training_set/dog/dog.3.jpg'))\n",
        "img.setflags(write = 1)\n",
        "print('image: ', img.shape)\n",
        "plt.imshow(img)\n",
        "plt.show()"
      ],
      "execution_count": null,
      "outputs": []
    },
    {
      "cell_type": "code",
      "metadata": {
        "id": "M5u8xxTx1p7k"
      },
      "source": [
        "#resizing the image\n",
        "newImg = cv2.resize(img, (64, 128))\n",
        "plt.imshow(newImg)\n",
        "plt.show()\n",
        "print(newImg.shape)"
      ],
      "execution_count": null,
      "outputs": []
    },
    {
      "cell_type": "markdown",
      "source": [
        "## Getting the HOG features of each image"
      ],
      "metadata": {
        "id": "lyDhfad1dOa0"
      }
    },
    {
      "cell_type": "code",
      "metadata": {
        "id": "TTTVNdi_2Req"
      },
      "source": [
        "#hog features\n",
        "features_arr, hog_features = hog(newImg, visualize = True, multichannel = True)\n",
        "print(features_arr.shape)\n",
        "print(features_arr)\n",
        "print(hog_features.shape)\n",
        "plt.axis(\"off\")\n",
        "plt.imshow(hog_features, cmap = \"gray\")\n",
        "plt.show()"
      ],
      "execution_count": null,
      "outputs": []
    },
    {
      "cell_type": "markdown",
      "source": [
        "# Creating training Sets from HOG features and labeling them"
      ],
      "metadata": {
        "id": "uUZ-nucQdRHF"
      }
    },
    {
      "cell_type": "code",
      "metadata": {
        "id": "EVMkNMhL3g6K",
        "colab": {
          "base_uri": "https://localhost:8080/"
        },
        "outputId": "ddb34c26-08bb-40fa-ed6e-228f1560b820"
      },
      "source": [
        "#training data\n",
        "dogs_train = []\n",
        "for entry in glob.glob(\"/content/training_set/dog/*.jpg\"):\n",
        "  img = np.array(mpimg.imread(entry))\n",
        "  newImg = cv2.resize(img, (64, 32))\n",
        "  features_arr = hog(newImg)\n",
        "  dogs_train.append(features_arr)\n",
        "\n",
        "cats_train = []\n",
        "for entry in glob.glob(\"/content/training_set/cat/*.jpg\"):\n",
        "  img = np.array(mpimg.imread(entry))\n",
        "  newImg = cv2.resize(img, (64, 32))\n",
        "  features_arr = hog(newImg)\n",
        "  cats_train.append(features_arr)\n",
        "\n",
        "train_data = cats_train + dogs_train\n",
        "print(len(train_data))"
      ],
      "execution_count": null,
      "outputs": [
        {
          "output_type": "stream",
          "name": "stdout",
          "text": [
            "20000\n"
          ]
        }
      ]
    },
    {
      "cell_type": "code",
      "metadata": {
        "id": "Ts_4mivR45wK"
      },
      "source": [
        "#labeling the training data\n",
        "train_label_list = []\n",
        "for i in range(len(train_data)):\n",
        "  if i < 10000:\n",
        "    train_label_list.append('cat')\n",
        "  else:\n",
        "    train_label_list.append('dog')\n",
        "print(train_label_list)\n",
        "print(len(train_label_list))"
      ],
      "execution_count": null,
      "outputs": []
    },
    {
      "cell_type": "markdown",
      "source": [
        "# Creating test sets from HOG features and labeling them"
      ],
      "metadata": {
        "id": "x4wLbfXidnge"
      }
    },
    {
      "cell_type": "code",
      "metadata": {
        "id": "25_bUETN5Y4D",
        "colab": {
          "base_uri": "https://localhost:8080/"
        },
        "outputId": "f8b3e876-ef5e-44f7-b71c-a4d8975987ef"
      },
      "source": [
        "#test dataset\n",
        "dogs_test = []\n",
        "for entry in glob.glob(\"/content/test_set/dog/*.jpg\"):\n",
        "  img = np.array(mpimg.imread(entry))\n",
        "  newImg = cv2.resize(img, (64, 32))\n",
        "  features_arr = hog(newImg)\n",
        "  test_dict = {'data': features_arr, 'label': 'dog'}\n",
        "  dogs_test.append(test_dict)\n",
        "\n",
        "cats_test = []\n",
        "for entry in glob.glob(\"/content/test_set/cat/*.jpg\"):\n",
        "  img = np.array(mpimg.imread(entry))\n",
        "  newImg = cv2.resize(img, (64, 32))\n",
        "  features_arr = hog(newImg)\n",
        "  test_dict = {'data': features_arr, 'label': 'cat'}\n",
        "  cats_test.append(test_dict)\n",
        "\n",
        "test_data = dogs_test + cats_test\n",
        "print(len(test_data))"
      ],
      "execution_count": null,
      "outputs": [
        {
          "output_type": "stream",
          "name": "stdout",
          "text": [
            "5000\n"
          ]
        }
      ]
    },
    {
      "cell_type": "code",
      "metadata": {
        "id": "ZnI617SR6pT9"
      },
      "source": [
        "#separating data and labels into different lists\n",
        "test_features = []\n",
        "test_labels = []\n",
        "for i in test_data:\n",
        "  test_labels.append(i['label'])\n",
        "  test_features.append(i['data'])\n",
        "print(len(test_features))\n",
        "print(test_labels)"
      ],
      "execution_count": null,
      "outputs": []
    },
    {
      "cell_type": "markdown",
      "source": [
        "# **Model Training - Euclidean Distance KNN**"
      ],
      "metadata": {
        "id": "kIvo116neFMU"
      }
    },
    {
      "cell_type": "code",
      "metadata": {
        "id": "r2arXCwD7MUa"
      },
      "source": [
        "#euclidean training and prediction\n",
        "#KNN implementation\n",
        "x_axis_k_points = []\n",
        "\n",
        "#euclidiean distance\n",
        "f1_eu = []\n",
        "acc_eu = []\n",
        "conf_matrix_eu = []\n",
        "\n",
        "for k in range(10):\n",
        "  #train data\n",
        "  knn_eu = KNeighborsClassifier(n_neighbors = k + 1)\n",
        "  knn_eu.fit(train_data, train_label_list)\n",
        "\n",
        "  #KNN prediction\n",
        "  prediction = knn_eu.predict(test_features)\n",
        "\n",
        "  #accuracy\n",
        "  acc_euclidean = knn_eu.score(test_features, test_labels)\n",
        "  acc_eu.append(acc_euclidean)\n",
        "\n",
        "  #confusion matrix of predictions\n",
        "  conf_matrix_eu.append(metrics.confusion_matrix(test_labels, prediction))\n",
        "\n",
        "  #f1 score\n",
        "  f1_eu.append(metrics.f1_score(test_labels, prediction, pos_label = 'dog'))\n",
        "\n",
        "  x_axis_k_points.append(k+1)\n",
        "\n",
        "print(\"F1 Scores of Euclidean Distance KNN:\", f1_eu)\n",
        "print(\"Accuracies of Euclidean Distance KNN:\", acc_eu)"
      ],
      "execution_count": null,
      "outputs": []
    },
    {
      "cell_type": "code",
      "source": [
        "# Euclidean Training and Prediction with optimal K Value\n",
        "# Optimal K value for dataset of 10,000 images is Sqrt(10000) = 100\n",
        "conf_matrix_OptimalK_eu = []\n",
        "\n",
        "#Train data\n",
        "knn_OptimalK_eu = KNeighborsClassifier(n_neighbors = 100)\n",
        "knn_OptimalK_eu.fit(train_data, train_label_list)\n",
        "\n",
        "#KNN prediction\n",
        "prediction_eu = knn_OptimalK_eu.predict(test_features)\n",
        "\n",
        "#accuracy\n",
        "acc_optimalK_eu = knn_OptimalK_eu.score(test_features, test_labels)\n",
        "\n",
        "#confusion matrix of predictions\n",
        "conf_matrix_OptimalK_eu.append(metrics.confusion_matrix(test_labels, prediction_eu))\n",
        "\n",
        "f1_optimalK_eu = metrics.f1_score(test_labels, prediction, pos_label = 'dog')\n",
        "\n",
        "print(\"F1 Score of Euclidean Distance KNN with Optimal K:\", f1_optimalK_eu)\n",
        "print(\"Accuracy of Euclidean Distance KNN with Optimal K:\", acc_optimalK_eu )\n"
      ],
      "metadata": {
        "id": "DzVg2iMkedO6"
      },
      "execution_count": null,
      "outputs": []
    },
    {
      "cell_type": "markdown",
      "source": [
        "# **Model Training - Manhattan Distance KNN**"
      ],
      "metadata": {
        "id": "Zu8e5etbeLZA"
      }
    },
    {
      "cell_type": "code",
      "metadata": {
        "id": "sRKyjkdZ9NcD"
      },
      "source": [
        "#manhattan training and prediction\n",
        "\n",
        "#metrics\n",
        "f1_man = []\n",
        "acc_man = []\n",
        "conf_matrix_man = []\n",
        "\n",
        "for k in range(10):\n",
        "  #train data\n",
        "  knn_man = KNeighborsClassifier(n_neighbors = k + 1, p = 1)\n",
        "  knn_man.fit(train_data, train_label_list)\n",
        "\n",
        "  #KNN prediction\n",
        "  prediction_man = knn_man.predict(test_features)\n",
        "\n",
        "  #accuracy\n",
        "  acc_manhattan = knn_man.score(test_features, test_labels)\n",
        "  acc_man.append(acc_manhattan)\n",
        "\n",
        "  #confusion matrix of predictions\n",
        "  conf_matrix_man.append(metrics.confusion_matrix(test_labels, prediction_man))\n",
        "\n",
        "  #f1 score\n",
        "  f1_man.append(metrics.f1_score(test_labels, prediction_man, pos_label = 'dog'))\n",
        "\n",
        "  x_axis_k_points.append(k+1)\n",
        "\n",
        "print(\"F1 Scores of Manhattan Distance KNN:\", f1_man)\n",
        "print(\"Accuracies of Manhattan Distance KNN:\", acc_man)"
      ],
      "execution_count": null,
      "outputs": []
    },
    {
      "cell_type": "code",
      "source": [
        "# Manhattan Training and Prediction with optimal K Value\n",
        "# Optimal K value for dataset of 10,000 images is Sqrt(10000) = 100\n",
        "conf_matrix_OptimalK_man = []\n",
        "\n",
        "#Train data\n",
        "knn_OptimalK_man = KNeighborsClassifier(n_neighbors = 100, p = 1)\n",
        "knn_OptimalK_man.fit(train_data, train_label_list)\n",
        "\n",
        "#KNN prediction\n",
        "prediction_man = knn_OptimalK_man.predict(test_features)\n",
        "\n",
        "#accuracy\n",
        "acc_optimalK_man = knn_OptimalK_man.score(test_features, test_labels)\n",
        "\n",
        "#confusion matrix of predictions\n",
        "conf_matrix_OptimalK_man.append(metrics.confusion_matrix(test_labels, prediction_eu))\n",
        "\n",
        "f1_optimalK_man = metrics.f1_score(test_labels, prediction, pos_label = 'dog')\n",
        "\n",
        "print(\"F1 Score of Euclidean Distance KNN with Optimal K:\", f1_optimalK_man)\n",
        "print(\"Accuracy of Euclidean Distance KNN with Optimal K:\", acc_optimalK_man)"
      ],
      "metadata": {
        "id": "sNb6Vcl4ch0K"
      },
      "execution_count": null,
      "outputs": []
    },
    {
      "cell_type": "markdown",
      "source": [
        "# **Printing Data**"
      ],
      "metadata": {
        "id": "JM8w5c5zeN_J"
      }
    },
    {
      "cell_type": "code",
      "metadata": {
        "id": "ohV8mIAc_KHC",
        "colab": {
          "base_uri": "https://localhost:8080/"
        },
        "outputId": "b7ddd221-bd1b-438f-bd38-12cf0e502502"
      },
      "source": [
        "#scores\n",
        "print(\"Manhattan Scores: \")\n",
        "for i in range(len(f1_man)):\n",
        "  print('For K = ', i + 1, ', F1 score = ', f1_man[i], ', Accuracy = ', acc_man[i], ', \\nConfusion Matrix: \\n', conf_matrix_man[i])"
      ],
      "execution_count": null,
      "outputs": [
        {
          "output_type": "stream",
          "name": "stdout",
          "text": [
            "Manhattan Scores: \n",
            "For K =  1 , F1 score =  0.6904149834741095 , Accuracy =  0.6628 , \n",
            "Confusion Matrix: \n",
            " [[1434 1066]\n",
            " [ 620 1880]]\n",
            "For K =  2 , F1 score =  0.6385247722728282 , Accuracy =  0.6746 , \n",
            "Confusion Matrix: \n",
            " [[1936  564]\n",
            " [1063 1437]]\n",
            "For K =  3 , F1 score =  0.7152677279305355 , Accuracy =  0.6852 , \n",
            "Confusion Matrix: \n",
            " [[1449 1051]\n",
            " [ 523 1977]]\n",
            "For K =  4 , F1 score =  0.7020457767875229 , Accuracy =  0.7058 , \n",
            "Confusion Matrix: \n",
            " [[1796  704]\n",
            " [ 767 1733]]\n",
            "For K =  5 , F1 score =  0.735734664764622 , Accuracy =  0.7036 , \n",
            "Confusion Matrix: \n",
            " [[1455 1045]\n",
            " [ 437 2063]]\n",
            "For K =  6 , F1 score =  0.7297662739038053 , Accuracy =  0.7202 , \n",
            "Confusion Matrix: \n",
            " [[1712  788]\n",
            " [ 611 1889]]\n",
            "For K =  7 , F1 score =  0.7468175388967467 , Accuracy =  0.7136 , \n",
            "Confusion Matrix: \n",
            " [[1456 1044]\n",
            " [ 388 2112]]\n",
            "For K =  8 , F1 score =  0.7394512771996216 , Accuracy =  0.7246 , \n",
            "Confusion Matrix: \n",
            " [[1669  831]\n",
            " [ 546 1954]]\n",
            "For K =  9 , F1 score =  0.7478962131837307 , Accuracy =  0.7124 , \n",
            "Confusion Matrix: \n",
            " [[1429 1071]\n",
            " [ 367 2133]]\n",
            "For K =  10 , F1 score =  0.7534246575342465 , Accuracy =  0.7336 , \n",
            "Confusion Matrix: \n",
            " [[1633  867]\n",
            " [ 465 2035]]\n"
          ]
        }
      ]
    },
    {
      "cell_type": "code",
      "metadata": {
        "id": "C7fiBvJBABgX",
        "colab": {
          "base_uri": "https://localhost:8080/"
        },
        "outputId": "4f9b99af-f65d-44b1-a4f2-75332e42f9cb"
      },
      "source": [
        "#scores\n",
        "print(\"Euclidean Scores: \")\n",
        "for i in range(len(f1_eu)):\n",
        "  print('For K = ', i + 1, ', F1 score = ', f1_eu[i], ', Accuracy = ', acc_eu[i], ', \\nConfusion Matrix: \\n', conf_matrix_eu[i])"
      ],
      "execution_count": null,
      "outputs": [
        {
          "output_type": "stream",
          "name": "stdout",
          "text": [
            "Euclidean Scores: \n",
            "For K =  1 , F1 score =  0.6837137463531834 , Accuracy =  0.6314 , \n",
            "Confusion Matrix: \n",
            " [[1165 1335]\n",
            " [ 508 1992]]\n",
            "For K =  2 , F1 score =  0.6530944625407166 , Accuracy =  0.6592 , \n",
            "Confusion Matrix: \n",
            " [[1692  808]\n",
            " [ 896 1604]]\n",
            "For K =  3 , F1 score =  0.7165419783873649 , Accuracy =  0.659 , \n",
            "Confusion Matrix: \n",
            " [[1140 1360]\n",
            " [ 345 2155]]\n",
            "For K =  4 , F1 score =  0.7096774193548387 , Accuracy =  0.6832 , \n",
            "Confusion Matrix: \n",
            " [[1480 1020]\n",
            " [ 564 1936]]\n",
            "For K =  5 , F1 score =  0.7240307541305415 , Accuracy =  0.6626 , \n",
            "Confusion Matrix: \n",
            " [[1100 1400]\n",
            " [ 287 2213]]\n",
            "For K =  6 , F1 score =  0.7244560487380332 , Accuracy =  0.6834 , \n",
            "Confusion Matrix: \n",
            " [[1336 1164]\n",
            " [ 419 2081]]\n",
            "For K =  7 , F1 score =  0.7308745369624738 , Accuracy =  0.6658 , \n",
            "Confusion Matrix: \n",
            " [[1060 1440]\n",
            " [ 231 2269]]\n",
            "For K =  8 , F1 score =  0.7290856853135035 , Accuracy =  0.6794 , \n",
            "Confusion Matrix: \n",
            " [[1240 1260]\n",
            " [ 343 2157]]\n",
            "For K =  9 , F1 score =  0.7278824656659214 , Accuracy =  0.6592 , \n",
            "Confusion Matrix: \n",
            " [[1017 1483]\n",
            " [ 221 2279]]\n",
            "For K =  10 , F1 score =  0.7371922821024617 , Accuracy =  0.684 , \n",
            "Confusion Matrix: \n",
            " [[1204 1296]\n",
            " [ 284 2216]]\n"
          ]
        }
      ]
    }
  ]
}